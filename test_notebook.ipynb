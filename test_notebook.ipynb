{
 "cells": [
  {
   "cell_type": "code",
   "execution_count": 1,
   "metadata": {},
   "outputs": [
    {
     "data": {
      "text/markdown": [
       "|       |   $s_0$ |   $x_1$ |   $x_2$ |   $x_3$ |\n",
       "|:------|--------:|--------:|--------:|--------:|\n",
       "| $x_4$ |      -3 |      -2 |      -1 |    -0   |\n",
       "| $x_5$ |      -1 |      -1 |      -4 |    -0.5 |\n",
       "| $x_6$ |      -4 |      -1 |      -0 |    -1   |\n",
       "| $F$   |      -0 |       6 |       4 |     1   |"
      ]
     },
     "metadata": {},
     "output_type": "display_data"
    },
    {
     "data": {
      "text/markdown": [
       "|       |   $s_0$ |   $x_5$ |   $x_2$ |   $x_3$ |\n",
       "|:------|--------:|--------:|--------:|--------:|\n",
       "| $x_4$ |      -1 |      -2 |       7 |     1   |\n",
       "| $x_1$ |       1 |      -1 |       4 |     0.5 |\n",
       "| $x_6$ |      -3 |      -1 |       4 |    -0.5 |\n",
       "| $F$   |      -6 |       6 |     -20 |    -2   |"
      ]
     },
     "metadata": {},
     "output_type": "display_data"
    },
    {
     "data": {
      "text/markdown": [
       "|       |   $s_0$ |   $x_4$ |   $x_2$ |   $x_3$ |\n",
       "|:------|--------:|--------:|--------:|--------:|\n",
       "| $x_5$ |     0.5 |    -0.5 |    -3.5 |    -0.5 |\n",
       "| $x_1$ |     1.5 |    -0.5 |     0.5 |     0   |\n",
       "| $x_6$ |    -2.5 |    -0.5 |     0.5 |    -1   |\n",
       "| $F$   |    -9   |     3   |     1   |     1   |"
      ]
     },
     "metadata": {},
     "output_type": "display_data"
    },
    {
     "data": {
      "text/markdown": [
       "|       |   $s_0$ |   $x_4$ |   $x_2$ |   $x_6$ |\n",
       "|:------|--------:|--------:|--------:|--------:|\n",
       "| $x_5$ |    1.75 |   -0.25 |   -3.75 |    -0.5 |\n",
       "| $x_1$ |    1.5  |   -0.5  |    0.5  |     0   |\n",
       "| $x_3$ |    2.5  |    0.5  |   -0.5  |    -1   |\n",
       "| $F$   |  -11.5  |    2.5  |    1.5  |     1   |"
      ]
     },
     "metadata": {},
     "output_type": "display_data"
    },
    {
     "data": {
      "text/markdown": [
       "$$F = -11.5 = 1.5x_1+2.5x_3 = 1.5\\cdot(-3)+2.5\\cdot(-4) = -4.5-10 = -14.5$$"
      ]
     },
     "metadata": {},
     "output_type": "display_data"
    },
    {
     "data": {
      "text/markdown": [
       "|       |   $s_0$ |   $x_4$ |   $x_2$ |   $x_6$ |\n",
       "|:------|--------:|--------:|--------:|--------:|\n",
       "| $x_5$ |    1.75 |   -0.25 |   -3.75 |    -0.5 |\n",
       "| $x_1$ |    1.5  |   -0.5  |    0.5  |     0   |\n",
       "| $x_3$ |    2.5  |    0.5  |   -0.5  |    -1   |\n",
       "| $F$   |  -11.5  |    2.5  |    1.5  |     1   |"
      ]
     },
     "metadata": {},
     "output_type": "display_data"
    }
   ],
   "source": [
    "from src.table import Table, Format, V, Simplex\n",
    "from IPython.display import display_markdown\n",
    "\n",
    "table = Table.inverse(\n",
    "    [3, 1, 4],\n",
    "    V[2, 1, 1] <= 6, \n",
    "    V[1, 4, 0] <= 4,\n",
    "    V[0, 0.5, 1] <= 1,\n",
    ") >> max\n",
    "\n",
    "against = table.b\n",
    "\n",
    "result = Simplex.resolve(table)\n",
    "\n",
    "for table in result.history:\n",
    "    MD = Format(table)\n",
    "\n",
    "    display_markdown(\n",
    "        MD.table(),\n",
    "        raw=True\n",
    "    )\n",
    "\n",
    "display_markdown(\n",
    "    MD.check(against, True),\n",
    "    MD.table(),\n",
    "    raw=True\n",
    ")"
   ]
  },
  {
   "cell_type": "code",
   "execution_count": 2,
   "metadata": {},
   "outputs": [
    {
     "data": {
      "text/markdown": [
       "|       |   $s_0$ |   $x_1$ |   $x_2$ |   $x_3$ |\n",
       "|:------|--------:|--------:|--------:|--------:|\n",
       "| $x_4$ |       6 |       2 |     1   |       1 |\n",
       "| $x_5$ |       4 |       1 |     4   |       0 |\n",
       "| $x_6$ |       1 |       0 |     0.5 |       1 |\n",
       "| $F$   |       0 |       3 |     1   |       4 |"
      ]
     },
     "metadata": {},
     "output_type": "display_data"
    },
    {
     "data": {
      "text/markdown": [
       "|       |   $s_0$ |   $x_1$ |   $x_2$ |   $x_6$ |\n",
       "|:------|--------:|--------:|--------:|--------:|\n",
       "| $x_4$ |       5 |       2 |     0.5 |      -1 |\n",
       "| $x_5$ |       4 |       1 |     4   |      -0 |\n",
       "| $x_3$ |       1 |       0 |     0.5 |       1 |\n",
       "| $F$   |      -4 |       3 |    -1   |      -4 |"
      ]
     },
     "metadata": {},
     "output_type": "display_data"
    },
    {
     "data": {
      "text/markdown": [
       "|       |   $s_0$ |   $x_4$ |   $x_2$ |   $x_6$ |\n",
       "|:------|--------:|--------:|--------:|--------:|\n",
       "| $x_1$ |     2.5 |     0.5 |    0.25 |    -0.5 |\n",
       "| $x_5$ |     1.5 |    -0.5 |    3.75 |     0.5 |\n",
       "| $x_3$ |     1   |    -0   |    0.5  |     1   |\n",
       "| $F$   |   -11.5 |    -1.5 |   -1.75 |    -2.5 |"
      ]
     },
     "metadata": {},
     "output_type": "display_data"
    },
    {
     "data": {
      "text/markdown": [
       "$$F = 11.5 = 2.5x_1+x_3 = 2.5\\cdot3+1\\cdot4 = 7.5+4 = 11.5$$"
      ]
     },
     "metadata": {},
     "output_type": "display_data"
    },
    {
     "data": {
      "text/markdown": [
       "|       |   $s_0$ |   $x_4$ |   $x_2$ |   $x_6$ |\n",
       "|:------|--------:|--------:|--------:|--------:|\n",
       "| $x_1$ |     2.5 |     0.5 |    0.25 |    -0.5 |\n",
       "| $x_5$ |     1.5 |    -0.5 |    3.75 |     0.5 |\n",
       "| $x_3$ |     1   |    -0   |    0.5  |     1   |\n",
       "| $F$   |   -11.5 |    -1.5 |   -1.75 |    -2.5 |"
      ]
     },
     "metadata": {},
     "output_type": "display_data"
    }
   ],
   "source": [
    "from src.table import Table, Format, V, Simplex\n",
    "from IPython.display import display_markdown\n",
    "\n",
    "table = Table.straight(\n",
    "    [3, 1, 4],\n",
    "    V[2, 1, 1] <= 6, \n",
    "    V[1, 4, 0] <= 4,\n",
    "    V[0, 0.5, 1] <= 1,\n",
    ") >> min\n",
    "\n",
    "against = table.c\n",
    "\n",
    "result = Simplex.resolve(table)\n",
    "\n",
    "for table in result.history:\n",
    "    MD = Format(table)\n",
    "\n",
    "    display_markdown(\n",
    "        MD.table(),\n",
    "        raw=True\n",
    "    )\n",
    "\n",
    "display_markdown(\n",
    "    MD.check(against, True),\n",
    "    MD.table(),\n",
    "    raw=True\n",
    ")"
   ]
  },
  {
   "cell_type": "code",
   "execution_count": null,
   "metadata": {},
   "outputs": [],
   "source": []
  }
 ],
 "metadata": {
  "interpreter": {
   "hash": "9e724605d021a434cfcdc5b6dd8635b063f480c47877219db47963a5b40d6e9e"
  },
  "kernelspec": {
   "display_name": "Python 3.10.0 64-bit ('dt-lab-01-JzneXQ0N': pipenv)",
   "language": "python",
   "name": "python3"
  },
  "language_info": {
   "codemirror_mode": {
    "name": "ipython",
    "version": 3
   },
   "file_extension": ".py",
   "mimetype": "text/x-python",
   "name": "python",
   "nbconvert_exporter": "python",
   "pygments_lexer": "ipython3",
   "version": "3.10.0"
  },
  "orig_nbformat": 4
 },
 "nbformat": 4,
 "nbformat_minor": 2
}
