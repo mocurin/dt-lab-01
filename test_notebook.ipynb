{
 "cells": [
  {
   "cell_type": "code",
   "execution_count": 8,
   "metadata": {},
   "outputs": [
    {
     "data": {
      "text/plain": [
       "array([[1., 2., 3.],\n",
       "       [4., 5., 6.],\n",
       "       [7., 8., 9.]])"
      ]
     },
     "execution_count": 8,
     "metadata": {},
     "output_type": "execute_result"
    }
   ],
   "source": [
    "import numpy as np\n",
    "\n",
    "A = np.array([1, 2, 3, 4, 5, 6], dtype=np.float64).reshape(2, 3)\n",
    "b = np.array([7, 8, 9], dtype=np.float64)\n",
    "\n",
    "np.vstack((A, b))"
   ]
  },
  {
   "cell_type": "code",
   "execution_count": 9,
   "metadata": {},
   "outputs": [
    {
     "data": {
      "text/plain": [
       "array([7., 8., 9., 1.])"
      ]
     },
     "execution_count": 9,
     "metadata": {},
     "output_type": "execute_result"
    }
   ],
   "source": [
    "b = np.array([7, 8, 9], dtype=np.float64)\n",
    "np.hstack((b, 1))"
   ]
  },
  {
   "cell_type": "code",
   "execution_count": 2,
   "metadata": {},
   "outputs": [
    {
     "name": "stdout",
     "output_type": "stream",
     "text": [
      "[[1, 2, 3], [4, 5, 6]] [7, -8]\n"
     ]
    }
   ],
   "source": [
    "from src.table import V\n",
    "\n",
    "system = [\n",
    "    V[1, 2, 3] <= 7,\n",
    "    V[4, 5, 6] >= 8,\n",
    "]\n",
    "\n",
    "system = [(neq.data[:-1], neq.data[-1]) for neq in system]\n",
    "A, b = list(map(list, zip(*system)))\n",
    "\n",
    "print(A, b)"
   ]
  },
  {
   "cell_type": "code",
   "execution_count": 9,
   "metadata": {},
   "outputs": [
    {
     "name": "stdout",
     "output_type": "stream",
     "text": [
      "None\n",
      "None\n",
      "None\n"
     ]
    }
   ],
   "source": [
    "import inspect\n",
    "\n",
    "def foo(a = None, b = None, c = None):\n",
    "    pass\n",
    "\n",
    "sig = inspect.signature(foo)\n",
    "\n",
    "for name, arg in sig.parameters.items():\n",
    "    print(arg.default)"
   ]
  },
  {
   "cell_type": "code",
   "execution_count": 5,
   "metadata": {},
   "outputs": [
    {
     "data": {
      "text/markdown": [
       "$A = \\begin{bmatrix}\n",
       "-1 & 2.5 & 3\\\\\n",
       "4 & -5.2 & 6\\\\\n",
       "7 & 8 & 9\\\\\n",
       "1 & 2 & 3\n",
       "\\end{bmatrix}$"
      ]
     },
     "metadata": {},
     "output_type": "display_data"
    },
    {
     "data": {
      "text/markdown": [
       "$b = \\begin{bmatrix}\n",
       "10 & 11 & 12.7 & 13\n",
       "\\end{bmatrix}$"
      ]
     },
     "metadata": {},
     "output_type": "display_data"
    },
    {
     "data": {
      "text/markdown": [
       "$c = \\begin{bmatrix}\n",
       "-1 & -2 & -3.5\n",
       "\\end{bmatrix}$"
      ]
     },
     "metadata": {},
     "output_type": "display_data"
    }
   ],
   "source": [
    "import numpy as np\n",
    "from src.table import Table, V\n",
    "from IPython.display import display_markdown\n",
    "\n",
    "table = Table.create(\n",
    "    [-1, -2, -3.5],\n",
    "    V[-1, 2.5, 3] <= 10,\n",
    "    V[4, -5.2, 6] <= 11,\n",
    "    V[7, 8, 9] <= 12.7,\n",
    "    V[1, 2, 3] <= 13\n",
    ")\n",
    "\n",
    "display_markdown(\n",
    "    table.latex_A(),\n",
    "    table.latex_b(),\n",
    "    table.latex_c(),\n",
    "    raw=True\n",
    ")"
   ]
  },
  {
   "cell_type": "code",
   "execution_count": null,
   "metadata": {},
   "outputs": [],
   "source": []
  }
 ],
 "metadata": {
  "interpreter": {
   "hash": "9e724605d021a434cfcdc5b6dd8635b063f480c47877219db47963a5b40d6e9e"
  },
  "kernelspec": {
   "display_name": "Python 3.10.0 64-bit ('dt-lab-01-JzneXQ0N': pipenv)",
   "language": "python",
   "name": "python3"
  },
  "language_info": {
   "codemirror_mode": {
    "name": "ipython",
    "version": 3
   },
   "file_extension": ".py",
   "mimetype": "text/x-python",
   "name": "python",
   "nbconvert_exporter": "python",
   "pygments_lexer": "ipython3",
   "version": "3.10.0"
  },
  "orig_nbformat": 4
 },
 "nbformat": 4,
 "nbformat_minor": 2
}
