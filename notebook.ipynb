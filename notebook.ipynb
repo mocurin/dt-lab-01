{
 "cells": [
  {
   "cell_type": "markdown",
   "source": [
    "# Лабораторная работа №1\n",
    "\n",
    "## Изучение симплекс-метода решения задачи ЛП"
   ],
   "metadata": {}
  },
  {
   "cell_type": "markdown",
   "source": [
    "## Условие задачи\n",
    "\n",
    "Требуется найти решение следующей задачи ЛП:\n",
    "\n",
    "$$F=\\textbf{cx}\\rightarrow max,$$\n",
    "$$\\textbf{Ax}\\leq\\textbf{b},$$\n",
    "$$\\textbf{x}\\geq 0.$$"
   ],
   "metadata": {}
  },
  {
   "cell_type": "code",
   "execution_count": 1,
   "source": [
    "import numpy as np\n",
    "\n",
    "from IPython.display import display_markdown\n",
    "\n",
    "from src.latex import array_to_latex, matrix_to_latex, equation_system, equation_body, check, Brackets\n",
    "\n",
    "\n",
    "# Source data\n",
    "c = np.array([3, 1, 4], dtype=np.float32)\n",
    "A = np.array([2, 1, 1, 1, 4, 0, 0, 0.5, 1], dtype=np.float32).reshape(3, 3)\n",
    "b = np.array([6, 4, 1], dtype=np.float32)\n",
    "\n",
    "# c = np.array([7, 5, 3], dtype=np.float32)\n",
    "# A = np.array([1, 2, 0, 4, 1, 1, 0, 0.5, 1], dtype=np.float32).reshape(3, 3)\n",
    "# b = np.array([30, 40, 50], dtype=np.float32)\n",
    "\n",
    "display_markdown(\n",
    "    \"<center> <h2> Исходные данные согласно Варианту 2 </h2> </center>\",\n",
    "    array_to_latex(c, 'c', Brackets.square),\n",
    "    matrix_to_latex(A, 'A', Brackets.square),\n",
    "    array_to_latex(b, 'b', Brackets.square),\n",
    "    raw=True\n",
    ")"
   ],
   "outputs": [
    {
     "output_type": "display_data",
     "data": {
      "text/markdown": [
       "<center> <h2> Исходные данные согласно Варианту 2 </h2> </center>"
      ]
     },
     "metadata": {}
    },
    {
     "output_type": "display_data",
     "data": {
      "text/markdown": [
       "$c = \\begin{bmatrix}\n",
       "3.0 & 1.0 & 4.0\n",
       "\\end{bmatrix}$"
      ]
     },
     "metadata": {}
    },
    {
     "output_type": "display_data",
     "data": {
      "text/markdown": [
       "$A = \\begin{bmatrix}\n",
       "2.0 & 1.0 & 1.0\\\\\n",
       "1.0 & 4.0 & 0.0\\\\\n",
       "0.0 & 0.5 & 1.0\n",
       "\\end{bmatrix}$"
      ]
     },
     "metadata": {}
    },
    {
     "output_type": "display_data",
     "data": {
      "text/markdown": [
       "$b = \\begin{bmatrix}\n",
       "6.0 & 4.0 & 1.0\n",
       "\\end{bmatrix}$"
      ]
     },
     "metadata": {}
    }
   ],
   "metadata": {}
  },
  {
   "cell_type": "code",
   "execution_count": 2,
   "source": [
    "system = np.hstack([A, np.eye(A.shape[0])])\n",
    "labels = [f\"x_{idx + 1}\" for idx in range(system.shape[1])]\n",
    "\n",
    "eq = equation_body(c, labels[:A.shape[1]])\n",
    "eq = f\"$$F=-({eq}) \\\\rightarrow min$$\"\n",
    "cond = f\"$${', '.join(labels)} \\geq 0$$\"\n",
    "\n",
    "display_markdown(\n",
    "    \"<center> <h2> Задача ЛП в канонической форме </h2> </center>\",\n",
    "    eq, equation_system(system, b, labels), cond,\n",
    "    raw=True\n",
    ")"
   ],
   "outputs": [
    {
     "output_type": "display_data",
     "data": {
      "text/markdown": [
       "<center> <h2> Задача ЛП в канонической форме </h2> </center>"
      ]
     },
     "metadata": {}
    },
    {
     "output_type": "display_data",
     "data": {
      "text/markdown": [
       "$$F=-(3.0x_1+x_2+4.0x_3) \\rightarrow min$$"
      ]
     },
     "metadata": {}
    },
    {
     "output_type": "display_data",
     "data": {
      "text/markdown": [
       "$\\begin{cases}2.0x_1+x_2+x_3+x_4=6.0\\\\\n",
       "x_1+4.0x_2+x_5=4.0\\\\\n",
       "0.5x_2+x_3+x_6=1.0\n",
       "\\end{cases}$"
      ]
     },
     "metadata": {}
    },
    {
     "output_type": "display_data",
     "data": {
      "text/markdown": [
       "$$x_1, x_2, x_3, x_4, x_5, x_6 \\geq 0$$"
      ]
     },
     "metadata": {}
    }
   ],
   "metadata": {}
  },
  {
   "cell_type": "markdown",
   "source": [
    "## Выполнение работы"
   ],
   "metadata": {}
  },
  {
   "cell_type": "code",
   "execution_count": 3,
   "source": [
    "from IPython.display import display_markdown\n",
    "\n",
    "from src.simplex import Simplex\n",
    "\n",
    "result, solvable = Simplex.resolve(c, A, b)\n",
    "\n",
    "\n",
    "if solvable:\n",
    "    tgt, base = result.function_to_md(inverse=True)\n",
    "\n",
    "    display_markdown(\n",
    "        \"## Результаты работы simplex-алгоритма\",\n",
    "        result.table_to_md(),\n",
    "        \"### Целевая функция (для исходной задачи)\",\n",
    "        tgt,\n",
    "        raw=True\n",
    "    )\n",
    "else:\n",
    "    display_markdown(\n",
    "        \"## Результаты работы simplex-алгоритма\",\n",
    "        result.table_to_md(),\n",
    "        \"### Задача не может быть разрешена\",\n",
    "        raw=True\n",
    "    ) "
   ],
   "outputs": [
    {
     "output_type": "display_data",
     "data": {
      "text/markdown": [
       "## Результаты работы simplex-алгоритма"
      ]
     },
     "metadata": {}
    },
    {
     "output_type": "display_data",
     "data": {
      "text/markdown": [
       "|       |   $s_0$ |   $x_4$ |   $x_2$ |   $x_6$ |\n",
       "|:------|--------:|--------:|--------:|--------:|\n",
       "| $x_1$ |     2.5 |     0.5 |    0.25 |    -0.5 |\n",
       "| $x_5$ |     1.5 |    -0.5 |    3.75 |     0.5 |\n",
       "| $x_3$ |     1   |    -0   |    0.5  |     1   |\n",
       "| $F$   |   -11.5 |    -1.5 |   -1.75 |    -2.5 |"
      ]
     },
     "metadata": {}
    },
    {
     "output_type": "display_data",
     "data": {
      "text/markdown": [
       "### Целевая функция (для исходной задачи)"
      ]
     },
     "metadata": {}
    },
    {
     "output_type": "display_data",
     "data": {
      "text/markdown": [
       "$F=11.5$"
      ]
     },
     "metadata": {}
    }
   ],
   "metadata": {}
  },
  {
   "cell_type": "code",
   "execution_count": 4,
   "source": [
    "from src.simplex import Simplex\n",
    "\n",
    "\n",
    "def resolve(c, A, b):\n",
    "    gen = Simplex.resolve_gen(c, A, b)\n",
    "\n",
    "    prev, _, _ = next(gen)\n",
    "\n",
    "    tgt, base = prev.function_to_md()\n",
    "\n",
    "    display_markdown(\n",
    "        \"### Изначальная симплекс-таблица\",\n",
    "        prev.table_to_md(),\n",
    "        raw=True\n",
    "    )\n",
    "\n",
    "    table, pos, flag = next(gen)\n",
    "\n",
    "    if pos and flag:\n",
    "        display_markdown(\n",
    "            \"### Недопустимое решение\",\n",
    "            base,\n",
    "            f\"### Разрешающий элемент $x_{{{pos[0], pos[1]}}}={prev.table[pos]}$\",\n",
    "            \"### Исправленная симплекс-таблица\",\n",
    "            table.table_to_md(),\n",
    "            raw=True\n",
    "        )\n",
    "    elif not pos and not flag:\n",
    "        display_markdown(\n",
    "            \"### Недопустимое решение\",\n",
    "            base,\n",
    "            f\"### Невозможно найти разрешающий элемент\",\n",
    "            raw=True\n",
    "        )\n",
    "\n",
    "        return\n",
    "\n",
    "    prev = table\n",
    "    for idx, (table, pos, flag) in enumerate(gen):\n",
    "        tgt, base = table.function_to_md()\n",
    "\n",
    "        display_markdown(\n",
    "            f\"### {idx + 1} шаг. Разрешающий элемент $x_{{{pos[0]},{pos[1]}}}={prev.table[pos]}$\",\n",
    "            table.table_to_md(),\n",
    "            \"### Опорное решение\",\n",
    "            base,\n",
    "            \"### Целевая функция\",\n",
    "            tgt,\n",
    "            raw=True\n",
    "        )\n",
    "\n",
    "        prev = table\n",
    "    \n",
    "    tgt, base = table.function_to_md(inverse=True)\n",
    "\n",
    "    display_markdown(\n",
    "        f\"### Результирующая симплекс-таблица\",\n",
    "        table.table_to_md(),\n",
    "        \"### Целевая функция для исходной задачи\",\n",
    "        tgt,\n",
    "        raw=True\n",
    "    )\n",
    "\n",
    "resolve(c, A, b)"
   ],
   "outputs": [
    {
     "output_type": "display_data",
     "data": {
      "text/markdown": [
       "### Изначальная симплекс-таблица"
      ]
     },
     "metadata": {}
    },
    {
     "output_type": "display_data",
     "data": {
      "text/markdown": [
       "|       |   $s_0$ |   $x_1$ |   $x_2$ |   $x_3$ |\n",
       "|:------|--------:|--------:|--------:|--------:|\n",
       "| $x_4$ |       6 |       2 |     1   |       1 |\n",
       "| $x_5$ |       4 |       1 |     4   |       0 |\n",
       "| $x_6$ |       1 |       0 |     0.5 |       1 |\n",
       "| $F$   |       0 |       3 |     1   |       4 |"
      ]
     },
     "metadata": {}
    },
    {
     "output_type": "display_data",
     "data": {
      "text/markdown": [
       "### 1 шаг. Разрешающий элемент $x_{0,1}=0.5$"
      ]
     },
     "metadata": {}
    },
    {
     "output_type": "display_data",
     "data": {
      "text/markdown": [
       "|       |   $s_0$ |   $x_4$ |   $x_2$ |   $x_3$ |\n",
       "|:------|--------:|--------:|--------:|--------:|\n",
       "| $x_1$ |       3 |     0.5 |     0.5 |     0.5 |\n",
       "| $x_5$ |       1 |    -0.5 |     3.5 |    -0.5 |\n",
       "| $x_6$ |       1 |    -0   |     0.5 |     1   |\n",
       "| $F$   |      -9 |    -1.5 |    -0.5 |     2.5 |"
      ]
     },
     "metadata": {}
    },
    {
     "output_type": "display_data",
     "data": {
      "text/markdown": [
       "### Опорное решение"
      ]
     },
     "metadata": {}
    },
    {
     "output_type": "display_data",
     "data": {
      "text/markdown": [
       "$x_4=x_2=x_3=0, x_1=3.0, x_5=1.0, x_6=1.0$"
      ]
     },
     "metadata": {}
    },
    {
     "output_type": "display_data",
     "data": {
      "text/markdown": [
       "### Целевая функция"
      ]
     },
     "metadata": {}
    },
    {
     "output_type": "display_data",
     "data": {
      "text/markdown": [
       "$F=-9.0$"
      ]
     },
     "metadata": {}
    },
    {
     "output_type": "display_data",
     "data": {
      "text/markdown": [
       "### 2 шаг. Разрешающий элемент $x_{2,3}=1.0$"
      ]
     },
     "metadata": {}
    },
    {
     "output_type": "display_data",
     "data": {
      "text/markdown": [
       "|       |   $s_0$ |   $x_4$ |   $x_2$ |   $x_6$ |\n",
       "|:------|--------:|--------:|--------:|--------:|\n",
       "| $x_1$ |     2.5 |     0.5 |    0.25 |    -0.5 |\n",
       "| $x_5$ |     1.5 |    -0.5 |    3.75 |     0.5 |\n",
       "| $x_3$ |     1   |    -0   |    0.5  |     1   |\n",
       "| $F$   |   -11.5 |    -1.5 |   -1.75 |    -2.5 |"
      ]
     },
     "metadata": {}
    },
    {
     "output_type": "display_data",
     "data": {
      "text/markdown": [
       "### Опорное решение"
      ]
     },
     "metadata": {}
    },
    {
     "output_type": "display_data",
     "data": {
      "text/markdown": [
       "$x_4=x_2=x_6=0, x_1=2.5, x_5=1.5, x_3=1.0$"
      ]
     },
     "metadata": {}
    },
    {
     "output_type": "display_data",
     "data": {
      "text/markdown": [
       "### Целевая функция"
      ]
     },
     "metadata": {}
    },
    {
     "output_type": "display_data",
     "data": {
      "text/markdown": [
       "$F=-11.5$"
      ]
     },
     "metadata": {}
    },
    {
     "output_type": "display_data",
     "data": {
      "text/markdown": [
       "### Результирующая симплекс-таблица"
      ]
     },
     "metadata": {}
    },
    {
     "output_type": "display_data",
     "data": {
      "text/markdown": [
       "|       |   $s_0$ |   $x_4$ |   $x_2$ |   $x_6$ |\n",
       "|:------|--------:|--------:|--------:|--------:|\n",
       "| $x_1$ |     2.5 |     0.5 |    0.25 |    -0.5 |\n",
       "| $x_5$ |     1.5 |    -0.5 |    3.75 |     0.5 |\n",
       "| $x_3$ |     1   |    -0   |    0.5  |     1   |\n",
       "| $F$   |   -11.5 |    -1.5 |   -1.75 |    -2.5 |"
      ]
     },
     "metadata": {}
    },
    {
     "output_type": "display_data",
     "data": {
      "text/markdown": [
       "### Целевая функция для исходной задачи"
      ]
     },
     "metadata": {}
    },
    {
     "output_type": "display_data",
     "data": {
      "text/markdown": [
       "$F=11.5$"
      ]
     },
     "metadata": {}
    }
   ],
   "metadata": {}
  },
  {
   "cell_type": "code",
   "execution_count": 6,
   "source": [
    "labels = {\n",
    "    f'x_{i + 1}' for i, _ in enumerate(result.h_labels[1:])\n",
    "}\n",
    "\n",
    "values = dict()\n",
    "for value, label in zip(result.table[:-1, 0].flatten(), result.v_labels):\n",
    "    if label not in labels:\n",
    "        continue\n",
    "\n",
    "    values[label] = value\n",
    "\n",
    "for label in labels.difference(values.keys()):\n",
    "    values[label] = 0\n",
    "\n",
    "labels, values = map(\n",
    "    list, zip(\n",
    "        *sorted(values.items(), key=lambda x: x[0])\n",
    "    )\n",
    ")\n",
    "\n",
    "display_markdown(\n",
    "    \"### Проверка решения\",\n",
    "    f\"$F={equation_body(values, labels)}={check(values, c)}$\",\n",
    "    raw=True\n",
    ")"
   ],
   "outputs": [
    {
     "output_type": "display_data",
     "data": {
      "text/markdown": [
       "### Проверка решения"
      ]
     },
     "metadata": {}
    },
    {
     "output_type": "display_data",
     "data": {
      "text/markdown": [
       "$F=2.5x_1+x_3=2.5\\cdot3.0+1.0\\cdot4.0=11.5$"
      ]
     },
     "metadata": {}
    }
   ],
   "metadata": {}
  },
  {
   "cell_type": "code",
   "execution_count": null,
   "source": [],
   "outputs": [],
   "metadata": {}
  }
 ],
 "metadata": {
  "kernelspec": {
   "name": "python3",
   "display_name": "Python 3.9.7 64-bit ('dt-lab-01-JzneXQ0N': pipenv)"
  },
  "language_info": {
   "codemirror_mode": {
    "name": "ipython",
    "version": 3
   },
   "file_extension": ".py",
   "mimetype": "text/x-python",
   "name": "python",
   "nbconvert_exporter": "python",
   "pygments_lexer": "ipython3",
   "version": "3.9.7"
  },
  "interpreter": {
   "hash": "dd44167dc752805f66d252f88796ce967a5c7ee98c7576cd7858c86806abaf45"
  }
 },
 "nbformat": 4,
 "nbformat_minor": 5
}