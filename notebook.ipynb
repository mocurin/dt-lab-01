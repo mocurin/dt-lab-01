{
 "cells": [
  {
   "cell_type": "markdown",
   "id": "6e95f74e",
   "metadata": {},
   "source": [
    "# Лабораторные работы №1/2\n",
    "\n",
    "## Изучение симплекс-метода решения прямой и двойственной задачи ЛП"
   ]
  },
  {
   "cell_type": "markdown",
   "id": "88dcb135",
   "metadata": {},
   "source": [
    "## Условие задачи\n",
    "\n",
    "Требуется найти решение следующей задачи ЛП:\n",
    "\n",
    "$$F=\\textbf{cx}\\rightarrow max,$$\n",
    "$$\\textbf{Ax}\\leq\\textbf{b},$$\n",
    "$$\\textbf{x}\\geq 0.$$"
   ]
  },
  {
   "cell_type": "code",
   "execution_count": 2,
   "id": "e65626ef",
   "metadata": {},
   "outputs": [
    {
     "data": {
      "text/markdown": [
       "<center> <h2> Исходные данные согласно Варианту 2 </h2> </center>"
      ]
     },
     "metadata": {},
     "output_type": "display_data"
    },
    {
     "data": {
      "text/markdown": [
       "$c = \\begin{bmatrix}\n",
       "3 & 1 & 4\n",
       "\\end{bmatrix}$"
      ]
     },
     "metadata": {},
     "output_type": "display_data"
    },
    {
     "data": {
      "text/markdown": [
       "$A = \\begin{bmatrix}\n",
       "2 & 1 & 1\\\\\n",
       "1 & 4 & 0\\\\\n",
       "0 & 0.5 & 1\n",
       "\\end{bmatrix}$"
      ]
     },
     "metadata": {},
     "output_type": "display_data"
    },
    {
     "data": {
      "text/markdown": [
       "$b = \\begin{bmatrix}\n",
       "6 & 4 & 1\n",
       "\\end{bmatrix}$"
      ]
     },
     "metadata": {},
     "output_type": "display_data"
    }
   ],
   "source": [
    "import numpy as np\n",
    "\n",
    "from IPython.display import display_markdown\n",
    "\n",
    "from src.latex import array_to_latex, matrix_to_latex, equation_system, equation_body, check, Brackets\n",
    "\n",
    "\n",
    "# Source data\n",
    "c = np.array([3, 1, 4], dtype=np.float64)\n",
    "A = np.array([2, 1, 1, 1, 4, 0, 0, 0.5, 1], dtype=np.float64).reshape(3, 3)\n",
    "b = np.array([6, 4, 1], dtype=np.float64)\n",
    "\n",
    "# c = np.array([7, 5, 3], dtype=np.float32)\n",
    "# A = np.array([1, 2, 0, 4, 1, 1, 0, 0.5, 1], dtype=np.float32).reshape(3, 3)\n",
    "# b = np.array([30, 40, 50], dtype=np.float32)\n",
    "\n",
    "display_markdown(\n",
    "    \"<center> <h2> Исходные данные согласно Варианту 2 </h2> </center>\",\n",
    "    array_to_latex(c, 'c', 2, Brackets.square),\n",
    "    matrix_to_latex(A, 'A', 2, Brackets.square),\n",
    "    array_to_latex(b, 'b', 2, Brackets.square),\n",
    "    raw=True\n",
    ")"
   ]
  },
  {
   "cell_type": "code",
   "execution_count": 3,
   "id": "524f2283",
   "metadata": {},
   "outputs": [
    {
     "data": {
      "text/markdown": [
       "<center> <h2> Задача ЛП в канонической форме </h2> </center>"
      ]
     },
     "metadata": {},
     "output_type": "display_data"
    },
    {
     "data": {
      "text/markdown": [
       "$$F=-(3.0x_1+x_2+4.0x_3) \\rightarrow min$$"
      ]
     },
     "metadata": {},
     "output_type": "display_data"
    },
    {
     "data": {
      "text/markdown": [
       "$\\begin{cases}2.0x_1+x_2+x_3+x_4=6.0\\\\\n",
       "x_1+4.0x_2+x_5=4.0\\\\\n",
       "0.5x_2+x_3+x_6=1.0\n",
       "\\end{cases}$"
      ]
     },
     "metadata": {},
     "output_type": "display_data"
    },
    {
     "data": {
      "text/markdown": [
       "$$x_1, x_2, x_3, x_4, x_5, x_6 \\geq 0$$"
      ]
     },
     "metadata": {},
     "output_type": "display_data"
    }
   ],
   "source": [
    "system = np.hstack([A, np.eye(A.shape[0])])\n",
    "labels = [f\"x_{idx + 1}\" for idx in range(system.shape[1])]\n",
    "\n",
    "eq = equation_body(c, labels[:A.shape[1]])\n",
    "eq = f\"$$F=-({eq}) \\\\rightarrow min$$\"\n",
    "cond = f\"$${', '.join(labels)} \\geq 0$$\"\n",
    "\n",
    "display_markdown(\n",
    "    \"<center> <h2> Задача ЛП в канонической форме </h2> </center>\",\n",
    "    eq, equation_system(system, b, labels), cond,\n",
    "    raw=True\n",
    ")"
   ]
  },
  {
   "cell_type": "code",
   "execution_count": 4,
   "id": "fbbc101e",
   "metadata": {},
   "outputs": [
    {
     "data": {
      "text/markdown": [
       "<center> <h2> Исходные данные согласно Варианту 2 </h2> </center>"
      ]
     },
     "metadata": {},
     "output_type": "display_data"
    },
    {
     "data": {
      "text/markdown": [
       "$c^T = \\begin{bmatrix}\n",
       "3 & 1 & 4\n",
       "\\end{bmatrix}$"
      ]
     },
     "metadata": {},
     "output_type": "display_data"
    },
    {
     "data": {
      "text/markdown": [
       "$A^T = \\begin{bmatrix}\n",
       "2 & 1 & 0\\\\\n",
       "1 & 4 & 0.5\\\\\n",
       "1 & 0 & 1\n",
       "\\end{bmatrix}$"
      ]
     },
     "metadata": {},
     "output_type": "display_data"
    },
    {
     "data": {
      "text/markdown": [
       "$b^T = \\begin{bmatrix}\n",
       "6 & 4 & 1\n",
       "\\end{bmatrix}$"
      ]
     },
     "metadata": {},
     "output_type": "display_data"
    }
   ],
   "source": [
    "# Source data\n",
    "c = np.array([3, 1, 4], dtype=np.float64).T\n",
    "A = np.array([2, 1, 1, 1, 4, 0, 0, 0.5, 1], dtype=np.float64).reshape(3, 3).T\n",
    "b = np.array([6, 4, 1], dtype=np.float64).T\n",
    "\n",
    "# c = np.array([7, 5, 3], dtype=np.float32)\n",
    "# A = np.array([1, 2, 0, 4, 1, 1, 0, 0.5, 1], dtype=np.float32).reshape(3, 3)\n",
    "# b = np.array([30, 40, 50], dtype=np.float32)\n",
    "\n",
    "display_markdown(\n",
    "    \"<center> <h2> Исходные данные согласно Варианту 2 </h2> </center>\",\n",
    "    array_to_latex(c, 'c^T', 2, Brackets.square),\n",
    "    matrix_to_latex(A, 'A^T', 2, Brackets.square),\n",
    "    array_to_latex(b, 'b^T', 2, Brackets.square),\n",
    "    raw=True\n",
    ")"
   ]
  },
  {
   "cell_type": "code",
   "execution_count": 5,
   "id": "da808316",
   "metadata": {},
   "outputs": [
    {
     "data": {
      "text/markdown": [
       "<center> <h2> Двойственная задача ЛП в канонической форме </h2> </center>"
      ]
     },
     "metadata": {},
     "output_type": "display_data"
    },
    {
     "data": {
      "text/markdown": [
       "$$F=-(6.0y_1+4.0y_2+y_3) \\rightarrow min$$"
      ]
     },
     "metadata": {},
     "output_type": "display_data"
    },
    {
     "data": {
      "text/markdown": [
       "$\\begin{cases}2.0y_1+y_2-y_4=3.0\\\\\n",
       "y_1+4.0y_2+0.5y_3-y_5=1.0\\\\\n",
       "y_1+y_3-y_6=4.0\n",
       "\\end{cases}$"
      ]
     },
     "metadata": {},
     "output_type": "display_data"
    },
    {
     "data": {
      "text/markdown": [
       "$$y_1, y_2, y_3, y_4, y_5, y_6 \\geq 0$$"
      ]
     },
     "metadata": {},
     "output_type": "display_data"
    }
   ],
   "source": [
    "system = np.hstack([A, np.eye(A.shape[0]) * (-1)])\n",
    "labels = [f\"y_{idx + 1}\" for idx in range(system.shape[1])]\n",
    "\n",
    "eq = equation_body(b, labels[:A.shape[1]])\n",
    "eq = f\"$$F=-({eq}) \\\\rightarrow min$$\"\n",
    "cond = f\"$${', '.join(labels)} \\geq 0$$\"\n",
    "\n",
    "display_markdown(\n",
    "    \"<center> <h2> Двойственная задача ЛП в канонической форме </h2> </center>\",\n",
    "    eq, equation_system(system, c, labels), cond,\n",
    "    raw=True\n",
    ")"
   ]
  },
  {
   "cell_type": "markdown",
   "id": "29121a97",
   "metadata": {},
   "source": [
    "## Выполнение работы"
   ]
  },
  {
   "cell_type": "code",
   "execution_count": 6,
   "id": "52d91b7e",
   "metadata": {},
   "outputs": [
    {
     "data": {
      "text/markdown": [
       "## Результаты работы simplex-алгоритма"
      ]
     },
     "metadata": {},
     "output_type": "display_data"
    },
    {
     "data": {
      "text/markdown": [
       "|       |   $s_0$ |   $y_6$ |   $y_2$ |   $y_4$ |\n",
       "|:------|--------:|--------:|--------:|--------:|\n",
       "| $y_5$ |    1.75 |    -0.5 |   -3.75 |   -0.25 |\n",
       "| $y_1$ |    1.5  |     0   |    0.5  |   -0.5  |\n",
       "| $y_3$ |    2.5  |    -1   |   -0.5  |    0.5  |\n",
       "| $Ф$   |   11.5  |    -1   |   -1.5  |   -2.5  |"
      ]
     },
     "metadata": {},
     "output_type": "display_data"
    },
    {
     "data": {
      "text/markdown": [
       "### Целевая функция (для исходной задачи)"
      ]
     },
     "metadata": {},
     "output_type": "display_data"
    },
    {
     "data": {
      "text/markdown": [
       "$Ф=11.5$"
      ]
     },
     "metadata": {},
     "output_type": "display_data"
    }
   ],
   "source": [
    "from IPython.display import display_markdown\n",
    "\n",
    "from src.simplex import Simplex, Table\n",
    "\n",
    "table = Table.create(b * - 1, A * - 1, c * - 1, sym='y', fsym='Ф')\n",
    "solvable = Simplex.solve(table)\n",
    "\n",
    "\n",
    "if solvable:\n",
    "    tgt, base = table.function_to_md()\n",
    "\n",
    "    display_markdown(\n",
    "        \"## Результаты работы simplex-алгоритма\",\n",
    "        table.table_to_md(),\n",
    "        \"### Целевая функция (для исходной задачи)\",\n",
    "        tgt,\n",
    "        raw=True\n",
    "    )\n",
    "else:\n",
    "    display_markdown(\n",
    "        \"## Результаты работы simplex-алгоритма\",\n",
    "        table.table_to_md(),\n",
    "        \"### Задача не может быть разрешена\",\n",
    "        raw=True\n",
    "    )"
   ]
  },
  {
   "cell_type": "code",
   "execution_count": 7,
   "id": "fff91e74",
   "metadata": {},
   "outputs": [
    {
     "data": {
      "text/markdown": [
       "### Изначальная симплекс-таблица"
      ]
     },
     "metadata": {},
     "output_type": "display_data"
    },
    {
     "data": {
      "text/markdown": [
       "|       |   $s_0$ |   $y_1$ |   $y_2$ |   $y_3$ |\n",
       "|:------|--------:|--------:|--------:|--------:|\n",
       "| $y_4$ |      -3 |      -2 |      -1 |    -0   |\n",
       "| $y_5$ |      -1 |      -1 |      -4 |    -0.5 |\n",
       "| $y_6$ |      -4 |      -1 |      -0 |    -1   |\n",
       "| $Ф$   |       0 |      -6 |      -4 |    -1   |"
      ]
     },
     "metadata": {},
     "output_type": "display_data"
    },
    {
     "data": {
      "text/markdown": [
       "### Недопустимое решение"
      ]
     },
     "metadata": {},
     "output_type": "display_data"
    },
    {
     "data": {
      "text/markdown": [
       "$y_1=y_2=y_3=0, y_4=-3.0, y_5=-1.0, y_6=-4.0$"
      ]
     },
     "metadata": {},
     "output_type": "display_data"
    },
    {
     "data": {
      "text/markdown": [
       "### Разрешающий элемент $x_{(1, 1)}=-1.0$"
      ]
     },
     "metadata": {},
     "output_type": "display_data"
    },
    {
     "data": {
      "text/markdown": [
       "### Исправленная симплекс-таблица"
      ]
     },
     "metadata": {},
     "output_type": "display_data"
    },
    {
     "data": {
      "text/markdown": [
       "|       |   $s_0$ |   $y_5$ |   $y_2$ |   $y_3$ |\n",
       "|:------|--------:|--------:|--------:|--------:|\n",
       "| $y_4$ |      -1 |      -2 |       7 |     1   |\n",
       "| $y_1$ |       1 |      -1 |       4 |     0.5 |\n",
       "| $y_6$ |      -3 |      -1 |       4 |    -0.5 |\n",
       "| $Ф$   |       6 |      -6 |      20 |     2   |"
      ]
     },
     "metadata": {},
     "output_type": "display_data"
    },
    {
     "data": {
      "text/markdown": [
       "### Недопустимое решение"
      ]
     },
     "metadata": {},
     "output_type": "display_data"
    },
    {
     "data": {
      "text/markdown": [
       "$y_1=y_2=y_3=0, y_4=-3.0, y_5=-1.0, y_6=-4.0$"
      ]
     },
     "metadata": {},
     "output_type": "display_data"
    },
    {
     "data": {
      "text/markdown": [
       "### Разрешающий элемент $x_{(0, 1)}=-0.5$"
      ]
     },
     "metadata": {},
     "output_type": "display_data"
    },
    {
     "data": {
      "text/markdown": [
       "### Исправленная симплекс-таблица"
      ]
     },
     "metadata": {},
     "output_type": "display_data"
    },
    {
     "data": {
      "text/markdown": [
       "|       |   $s_0$ |   $y_4$ |   $y_2$ |   $y_3$ |\n",
       "|:------|--------:|--------:|--------:|--------:|\n",
       "| $y_5$ |     0.5 |    -0.5 |    -3.5 |    -0.5 |\n",
       "| $y_1$ |     1.5 |    -0.5 |     0.5 |     0   |\n",
       "| $y_6$ |    -2.5 |    -0.5 |     0.5 |    -1   |\n",
       "| $Ф$   |     9   |    -3   |    -1   |    -1   |"
      ]
     },
     "metadata": {},
     "output_type": "display_data"
    },
    {
     "data": {
      "text/markdown": [
       "### Недопустимое решение"
      ]
     },
     "metadata": {},
     "output_type": "display_data"
    },
    {
     "data": {
      "text/markdown": [
       "$y_1=y_2=y_3=0, y_4=-3.0, y_5=-1.0, y_6=-4.0$"
      ]
     },
     "metadata": {},
     "output_type": "display_data"
    },
    {
     "data": {
      "text/markdown": [
       "### Разрешающий элемент $x_{(2, 1)}=-2.0$"
      ]
     },
     "metadata": {},
     "output_type": "display_data"
    },
    {
     "data": {
      "text/markdown": [
       "### Исправленная симплекс-таблица"
      ]
     },
     "metadata": {},
     "output_type": "display_data"
    },
    {
     "data": {
      "text/markdown": [
       "|       |   $s_0$ |   $y_6$ |   $y_2$ |   $y_3$ |\n",
       "|:------|--------:|--------:|--------:|--------:|\n",
       "| $y_5$ |       3 |      -1 |      -4 |     0.5 |\n",
       "| $y_1$ |       4 |      -1 |       0 |     1   |\n",
       "| $y_4$ |       5 |      -2 |      -1 |     2   |\n",
       "| $Ф$   |      24 |      -6 |      -4 |     5   |"
      ]
     },
     "metadata": {},
     "output_type": "display_data"
    },
    {
     "data": {
      "text/markdown": [
       "### 1 шаг. Разрешающий элемент $x_{2,3}=0.5$"
      ]
     },
     "metadata": {},
     "output_type": "display_data"
    },
    {
     "data": {
      "text/markdown": [
       "|       |   $s_0$ |   $y_6$ |   $y_2$ |   $y_4$ |\n",
       "|:------|--------:|--------:|--------:|--------:|\n",
       "| $y_5$ |    1.75 |    -0.5 |   -3.75 |   -0.25 |\n",
       "| $y_1$ |    1.5  |     0   |    0.5  |   -0.5  |\n",
       "| $y_3$ |    2.5  |    -1   |   -0.5  |    0.5  |\n",
       "| $Ф$   |   11.5  |    -1   |   -1.5  |   -2.5  |"
      ]
     },
     "metadata": {},
     "output_type": "display_data"
    },
    {
     "data": {
      "text/markdown": [
       "### Опорное решение"
      ]
     },
     "metadata": {},
     "output_type": "display_data"
    },
    {
     "data": {
      "text/markdown": [
       "$y_6=y_2=y_4=0, y_5=1.75, y_1=1.5, y_3=2.5$"
      ]
     },
     "metadata": {},
     "output_type": "display_data"
    },
    {
     "data": {
      "text/markdown": [
       "### Целевая функция"
      ]
     },
     "metadata": {},
     "output_type": "display_data"
    },
    {
     "data": {
      "text/markdown": [
       "$Ф=11.5$"
      ]
     },
     "metadata": {},
     "output_type": "display_data"
    },
    {
     "data": {
      "text/markdown": [
       "### Результирующая симплекс-таблица"
      ]
     },
     "metadata": {},
     "output_type": "display_data"
    },
    {
     "data": {
      "text/markdown": [
       "|       |   $s_0$ |   $y_6$ |   $y_2$ |   $y_4$ |\n",
       "|:------|--------:|--------:|--------:|--------:|\n",
       "| $y_5$ |    1.75 |    -0.5 |   -3.75 |   -0.25 |\n",
       "| $y_1$ |    1.5  |     0   |    0.5  |   -0.5  |\n",
       "| $y_3$ |    2.5  |    -1   |   -0.5  |    0.5  |\n",
       "| $Ф$   |   11.5  |    -1   |   -1.5  |   -2.5  |"
      ]
     },
     "metadata": {},
     "output_type": "display_data"
    },
    {
     "data": {
      "text/markdown": [
       "### Целевая функция для исходной задачи"
      ]
     },
     "metadata": {},
     "output_type": "display_data"
    },
    {
     "data": {
      "text/markdown": [
       "$Ф=11.5$"
      ]
     },
     "metadata": {},
     "output_type": "display_data"
    }
   ],
   "source": [
    "from src.simplex import Simplex, Table\n",
    "\n",
    "\n",
    "def resolve(c, A, b, inverse: bool = False):\n",
    "    table = Table.create(b * -1, A * -1, c * -1, sym='y', fsym='Ф') if inverse else Table.create(c, A, b)\n",
    "\n",
    "    tgt, base = table.function_to_md()\n",
    "\n",
    "    display_markdown(\n",
    "        \"### Изначальная симплекс-таблица\",\n",
    "        table.table_to_md(),\n",
    "        raw=True\n",
    "    )\n",
    "\n",
    "    for idx, (table, pos, flag) in enumerate(Simplex.fix_gen(table)):\n",
    "        if pos and flag:\n",
    "            display_markdown(\n",
    "                \"### Недопустимое решение\",\n",
    "                base,\n",
    "                f\"### Разрешающий элемент $x_{{{pos[0], pos[1]}}}={table.table[pos]}$\",\n",
    "                \"### Исправленная симплекс-таблица\",\n",
    "                table.table_to_md(),\n",
    "                raw=True\n",
    "            )\n",
    "        else:\n",
    "            display_markdown(\n",
    "                \"### Опорное решение\",\n",
    "                base,\n",
    "                \"### Целевая функция\",\n",
    "                tgt,\n",
    "                raw=True\n",
    "            )\n",
    "\n",
    "    prev = table\n",
    "    for idx, (table, pos, flag) in enumerate(Simplex.solve_gen(table)):\n",
    "        tgt, base = table.function_to_md()\n",
    "\n",
    "        display_markdown(\n",
    "            f\"### {idx + 1} шаг. Разрешающий элемент $x_{{{pos[0]},{pos[1]}}}={prev.table[pos]}$\",\n",
    "            table.table_to_md(),\n",
    "            \"### Опорное решение\",\n",
    "            base,\n",
    "            \"### Целевая функция\",\n",
    "            tgt,\n",
    "            raw=True\n",
    "        )\n",
    "\n",
    "        prev = table\n",
    "    \n",
    "    tgt, base = table.function_to_md(not inverse)\n",
    "\n",
    "    display_markdown(\n",
    "        f\"### Результирующая симплекс-таблица\",\n",
    "        table.table_to_md(),\n",
    "        \"### Целевая функция для исходной задачи\",\n",
    "        tgt,\n",
    "        raw=True\n",
    "    )\n",
    "\n",
    "    return table\n",
    "\n",
    "result = resolve(c, A, b, inverse=True)"
   ]
  },
  {
   "cell_type": "code",
   "execution_count": 8,
   "id": "6a84fe60",
   "metadata": {},
   "outputs": [
    {
     "data": {
      "text/markdown": [
       "### Проверка решения"
      ]
     },
     "metadata": {},
     "output_type": "display_data"
    },
    {
     "data": {
      "text/markdown": [
       "$Ф=1.5y_1+2.5y_3=1.5\\cdot6.0+2.5\\cdot1.0=11.5$"
      ]
     },
     "metadata": {},
     "output_type": "display_data"
    }
   ],
   "source": [
    "labels = {\n",
    "    f'y_{i + 1}' for i, _ in enumerate(result.h_labels[1:])\n",
    "}\n",
    "\n",
    "values = dict()\n",
    "for value, label in zip(result.table[:-1, 0].flatten(), result.v_labels):\n",
    "    if label not in labels:\n",
    "        continue\n",
    "\n",
    "    values[label] = value\n",
    "\n",
    "for label in labels.difference(values.keys()):\n",
    "    values[label] = 0\n",
    "\n",
    "labels, values = map(\n",
    "    list, zip(\n",
    "        *sorted(values.items(), key=lambda x: x[0])\n",
    "    )\n",
    ")\n",
    "\n",
    "display_markdown(\n",
    "    \"### Проверка решения\",\n",
    "    f\"$Ф={equation_body(values, labels)}={check(values, b)}$\",\n",
    "    raw=True\n",
    ")"
   ]
  }
 ],
 "metadata": {
  "interpreter": {
   "hash": "dd44167dc752805f66d252f88796ce967a5c7ee98c7576cd7858c86806abaf45"
  },
  "kernelspec": {
   "display_name": "Python 3.9.7 64-bit ('dt-lab-01-JzneXQ0N': pipenv)",
   "name": "python3"
  },
  "language_info": {
   "codemirror_mode": {
    "name": "ipython",
    "version": 3
   },
   "file_extension": ".py",
   "mimetype": "text/x-python",
   "name": "python",
   "nbconvert_exporter": "python",
   "pygments_lexer": "ipython3",
   "version": "3.10.0"
  }
 },
 "nbformat": 4,
 "nbformat_minor": 5
}
