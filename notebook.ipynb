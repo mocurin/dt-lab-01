{
 "cells": [
  {
   "cell_type": "markdown",
   "source": [
    "# Лабораторная работа №1\n",
    "\n",
    "## Изучение симплекс-метода решения задачи ЛП"
   ],
   "metadata": {}
  },
  {
   "cell_type": "markdown",
   "source": [
    "## Условие задачи\n",
    "\n",
    "Требуется найти решение следующей задачи ЛП:\n",
    "\n",
    "$$F=\\textbf{cx}\\rightarrow max,$$\n",
    "$$\\textbf{Ax}\\leq\\textbf{b},$$\n",
    "$$\\textbf{x}\\geq 0.$$\n",
    "\n",
    "Исходные данные согласно варианту 2:"
   ],
   "metadata": {}
  },
  {
   "cell_type": "code",
   "execution_count": 1,
   "source": [
    "import numpy as np\n",
    "\n",
    "from IPython.display import display_latex\n",
    "\n",
    "from src.latex import array_to_latex, matrix_to_latex, Brackets\n",
    "\n",
    "\n",
    "# Source data\n",
    "c = np.array([3, 1, 4], dtype=np.float32)\n",
    "A = np.array([2, 1, 1, 1, 4, 0, 0, 0.5, 1], dtype=np.float32).reshape(3, 3)\n",
    "b = np.array([6, 4, 1], dtype=np.float32)\n",
    "\n",
    "\n",
    "display_latex(\n",
    "    array_to_latex(c, 'c', Brackets.square),\n",
    "    matrix_to_latex(A, 'A', Brackets.square),\n",
    "    array_to_latex(b, 'b', Brackets.square),\n",
    "    raw=True\n",
    ")"
   ],
   "outputs": [
    {
     "output_type": "display_data",
     "data": {
      "text/latex": [
       "$c = \\begin{bmatrix}\n",
       "3.0 & 1.0 & 4.0\n",
       "\\end{bmatrix}$"
      ]
     },
     "metadata": {}
    },
    {
     "output_type": "display_data",
     "data": {
      "text/latex": [
       "$A = \\begin{bmatrix}\n",
       "2.0 & 1.0 & 1.0\\\\\n",
       "1.0 & 4.0 & 0.0\\\\\n",
       "0.0 & 0.5 & 1.0\n",
       "\\end{bmatrix}$"
      ]
     },
     "metadata": {}
    },
    {
     "output_type": "display_data",
     "data": {
      "text/latex": [
       "$b = \\begin{bmatrix}\n",
       "6.0 & 4.0 & 1.0\n",
       "\\end{bmatrix}$"
      ]
     },
     "metadata": {}
    }
   ],
   "metadata": {}
  },
  {
   "cell_type": "markdown",
   "source": [
    "## Выполнение работы"
   ],
   "metadata": {}
  },
  {
   "cell_type": "code",
   "execution_count": 2,
   "source": [
    "from IPython.display import display_markdown\n",
    "\n",
    "from src.simplex import Simplex\n",
    "\n",
    "\n",
    "display_markdown(\"## Выполнение алгоритма\", raw=True)\n",
    "result = Simplex.resolve(c, A, b, verbose=True)\n",
    "\n",
    "display_markdown(\"## Результаты работы simplex-алгоритма\", raw=True)\n",
    "display_markdown(result.table_to_md(), raw=True)\n",
    "display_markdown(result.function_to_md(), raw=True)\n"
   ],
   "outputs": [
    {
     "output_type": "display_data",
     "data": {
      "text/markdown": [
       "## Выполнение алгоритма"
      ]
     },
     "metadata": {}
    },
    {
     "output_type": "display_data",
     "data": {
      "text/markdown": [
       "### Изначальная симплекс-таблица"
      ]
     },
     "metadata": {}
    },
    {
     "output_type": "display_data",
     "data": {
      "text/markdown": [
       "|       |   $s_0$ |   $x_1$ |   $x_2$ |   $x_3$ |\n",
       "|:------|--------:|--------:|--------:|--------:|\n",
       "| $x_4$ |       6 |       2 |     1   |       1 |\n",
       "| $x_5$ |       4 |       1 |     4   |       0 |\n",
       "| $x_6$ |       1 |       0 |     0.5 |       1 |\n",
       "| $F$   |       0 |       3 |     1   |       4 |"
      ]
     },
     "metadata": {}
    },
    {
     "output_type": "display_data",
     "data": {
      "text/markdown": [
       "$$F=0.0$$\n",
       "$$x_1=x_2=x_3=0$$\n",
       "$$x_4=6.0, x_5=4.0, x_6=1.0$$"
      ]
     },
     "metadata": {}
    },
    {
     "output_type": "display_data",
     "data": {
      "text/markdown": [
       "### 1 шаг. Разрешающий элемент $x_{0,1} = 0.5$"
      ]
     },
     "metadata": {}
    },
    {
     "output_type": "display_data",
     "data": {
      "text/markdown": [
       "|       |   $s_0$ |   $x_4$ |   $x_2$ |   $x_3$ |\n",
       "|:------|--------:|--------:|--------:|--------:|\n",
       "| $x_1$ |       3 |     0.5 |     0.5 |     0.5 |\n",
       "| $x_5$ |       1 |    -0.5 |     3.5 |    -0.5 |\n",
       "| $x_6$ |       1 |    -0   |     0.5 |     1   |\n",
       "| $F$   |      -9 |    -1.5 |    -0.5 |     2.5 |"
      ]
     },
     "metadata": {}
    },
    {
     "output_type": "display_data",
     "data": {
      "text/markdown": [
       "$$F=-9.0$$\n",
       "$$x_4=x_2=x_3=0$$\n",
       "$$x_1=3.0, x_5=1.0, x_6=1.0$$"
      ]
     },
     "metadata": {}
    },
    {
     "output_type": "display_data",
     "data": {
      "text/markdown": [
       "### 2 шаг. Разрешающий элемент $x_{2,3} = 1.0$"
      ]
     },
     "metadata": {}
    },
    {
     "output_type": "display_data",
     "data": {
      "text/markdown": [
       "|       |   $s_0$ |   $x_4$ |   $x_2$ |   $x_6$ |\n",
       "|:------|--------:|--------:|--------:|--------:|\n",
       "| $x_1$ |     2.5 |     0.5 |    0.25 |    -0.5 |\n",
       "| $x_5$ |     1.5 |    -0.5 |    3.75 |     0.5 |\n",
       "| $x_3$ |     1   |    -0   |    0.5  |     1   |\n",
       "| $F$   |   -11.5 |    -1.5 |   -1.75 |    -2.5 |"
      ]
     },
     "metadata": {}
    },
    {
     "output_type": "display_data",
     "data": {
      "text/markdown": [
       "$$F=-11.5$$\n",
       "$$x_4=x_2=x_6=0$$\n",
       "$$x_1=2.5, x_5=1.5, x_3=1.0$$"
      ]
     },
     "metadata": {}
    },
    {
     "output_type": "display_data",
     "data": {
      "text/markdown": [
       "## Результаты работы simplex-алгоритма"
      ]
     },
     "metadata": {}
    },
    {
     "output_type": "display_data",
     "data": {
      "text/markdown": [
       "|       |   $s_0$ |   $x_4$ |   $x_2$ |   $x_6$ |\n",
       "|:------|--------:|--------:|--------:|--------:|\n",
       "| $x_1$ |     2.5 |     0.5 |    0.25 |    -0.5 |\n",
       "| $x_5$ |     1.5 |    -0.5 |    3.75 |     0.5 |\n",
       "| $x_3$ |     1   |    -0   |    0.5  |     1   |\n",
       "| $F$   |   -11.5 |    -1.5 |   -1.75 |    -2.5 |"
      ]
     },
     "metadata": {}
    },
    {
     "output_type": "display_data",
     "data": {
      "text/markdown": [
       "$$F=-11.5$$\n",
       "$$x_4=x_2=x_6=0$$\n",
       "$$x_1=2.5, x_5=1.5, x_3=1.0$$"
      ]
     },
     "metadata": {}
    }
   ],
   "metadata": {}
  }
 ],
 "metadata": {
  "kernelspec": {
   "name": "python3",
   "display_name": "Python 3.9.7 64-bit ('dt-lab-01-JzneXQ0N': pipenv)"
  },
  "language_info": {
   "codemirror_mode": {
    "name": "ipython",
    "version": 3
   },
   "file_extension": ".py",
   "mimetype": "text/x-python",
   "name": "python",
   "nbconvert_exporter": "python",
   "pygments_lexer": "ipython3",
   "version": "3.9.7"
  },
  "interpreter": {
   "hash": "dd44167dc752805f66d252f88796ce967a5c7ee98c7576cd7858c86806abaf45"
  }
 },
 "nbformat": 4,
 "nbformat_minor": 5
}