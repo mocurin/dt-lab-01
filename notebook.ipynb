{
 "cells": [
  {
   "cell_type": "markdown",
   "source": [
    "# Лабораторная работа №1\n",
    "\n",
    "## Изучение симплекс-метода решения задачи ЛП"
   ],
   "metadata": {}
  },
  {
   "cell_type": "markdown",
   "source": [
    "## Условие задачи\n",
    "\n",
    "Требуется найти решение следующей задачи ЛП:\n",
    "\n",
    "$$F=\\textbf{cx}\\rightarrow max,$$\n",
    "$$\\textbf{Ax}\\leq\\textbf{b},$$\n",
    "$$\\textbf{x}\\geq 0.$$\n",
    "\n",
    "Исходные данные согласно варианту 2:"
   ],
   "metadata": {}
  },
  {
   "cell_type": "code",
   "execution_count": 11,
   "source": [
    "import numpy as np\n",
    "from IPython.core.display import display\n",
    "\n",
    "c = np.array([3, 1, 4], dtype=np.float32)\n",
    "A = np.array([2, 1, 1, 1, 4, 0, 0, 0.5, 1], dtype=np.float32).reshape(3, 3)\n",
    "b = np.array([6, 4, 1], dtype=np.float32)\n",
    "\n",
    "display(c, A, b)"
   ],
   "outputs": [
    {
     "output_type": "display_data",
     "data": {
      "text/plain": [
       "array([3., 1., 4.], dtype=float32)"
      ]
     },
     "metadata": {}
    },
    {
     "output_type": "display_data",
     "data": {
      "text/plain": [
       "array([[2. , 1. , 1. ],\n",
       "       [1. , 4. , 0. ],\n",
       "       [0. , 0.5, 1. ]], dtype=float32)"
      ]
     },
     "metadata": {}
    },
    {
     "output_type": "display_data",
     "data": {
      "text/plain": [
       "array([6., 4., 1.], dtype=float32)"
      ]
     },
     "metadata": {}
    }
   ],
   "metadata": {}
  },
  {
   "cell_type": "code",
   "execution_count": null,
   "source": [],
   "outputs": [],
   "metadata": {}
  }
 ],
 "metadata": {
  "kernelspec": {
   "name": "python3",
   "display_name": "Python 3.9.7 64-bit ('dt-lab-01-JzneXQ0N': pipenv)"
  },
  "language_info": {
   "codemirror_mode": {
    "name": "ipython",
    "version": 3
   },
   "file_extension": ".py",
   "mimetype": "text/x-python",
   "name": "python",
   "nbconvert_exporter": "python",
   "pygments_lexer": "ipython3",
   "version": "3.9.7"
  },
  "interpreter": {
   "hash": "dd44167dc752805f66d252f88796ce967a5c7ee98c7576cd7858c86806abaf45"
  }
 },
 "nbformat": 4,
 "nbformat_minor": 5
}